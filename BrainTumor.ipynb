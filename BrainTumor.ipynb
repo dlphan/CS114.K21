{
  "nbformat": 4,
  "nbformat_minor": 0,
  "metadata": {
    "colab": {
      "name": "BrainTumor.ipynb",
      "provenance": [],
      "mount_file_id": "1NR8sfCGdLp1hw5_NqpdPnkfSeGRiRwJP",
      "authorship_tag": "ABX9TyNY8J9rxSO6K08q3aE70ov6",
      "include_colab_link": true
    },
    "kernelspec": {
      "name": "python3",
      "display_name": "Python 3"
    }
  },
  "cells": [
    {
      "cell_type": "markdown",
      "metadata": {
        "id": "view-in-github",
        "colab_type": "text"
      },
      "source": [
        "<a href=\"https://colab.research.google.com/github/dlphan/CS114.K21/blob/master/BrainTumor.ipynb\" target=\"_parent\"><img src=\"https://colab.research.google.com/assets/colab-badge.svg\" alt=\"Open In Colab\"/></a>"
      ]
    },
    {
      "cell_type": "code",
      "metadata": {
        "id": "z5UGSdiAg_FS",
        "colab_type": "code",
        "colab": {
          "base_uri": "https://localhost:8080/",
          "height": 122
        },
        "outputId": "c7cd036b-0c22-424e-a782-4a433f7b4f15"
      },
      "source": [
        "from google.colab import drive\n",
        "drive.mount('/content/gdrive')"
      ],
      "execution_count": 4,
      "outputs": [
        {
          "output_type": "stream",
          "text": [
            "Go to this URL in a browser: https://accounts.google.com/o/oauth2/auth?client_id=947318989803-6bn6qk8qdgf4n4g3pfee6491hc0brc4i.apps.googleusercontent.com&redirect_uri=urn%3aietf%3awg%3aoauth%3a2.0%3aoob&response_type=code&scope=email%20https%3a%2f%2fwww.googleapis.com%2fauth%2fdocs.test%20https%3a%2f%2fwww.googleapis.com%2fauth%2fdrive%20https%3a%2f%2fwww.googleapis.com%2fauth%2fdrive.photos.readonly%20https%3a%2f%2fwww.googleapis.com%2fauth%2fpeopleapi.readonly\n",
            "\n",
            "Enter your authorization code:\n",
            "··········\n",
            "Mounted at /content/gdrive\n"
          ],
          "name": "stdout"
        }
      ]
    },
    {
      "cell_type": "code",
      "metadata": {
        "id": "ED1yDEYUhd7F",
        "colab_type": "code",
        "colab": {}
      },
      "source": [
        "import os\n",
        "os.environ['KAGGLE_CONFIG_DIR'] = \"/content/gdrive/My Drive/Kaggle\""
      ],
      "execution_count": 0,
      "outputs": []
    },
    {
      "cell_type": "code",
      "metadata": {
        "id": "aYryExgahpfc",
        "colab_type": "code",
        "colab": {
          "base_uri": "https://localhost:8080/",
          "height": 34
        },
        "outputId": "9b6b10fd-e184-4f56-8f59-e3620cdee54a"
      },
      "source": [
        "#changing the working directory\n",
        "%cd /content/gdrive/My Drive/Kaggle"
      ],
      "execution_count": 6,
      "outputs": [
        {
          "output_type": "stream",
          "text": [
            "/content/gdrive/My Drive/Kaggle\n"
          ],
          "name": "stdout"
        }
      ]
    },
    {
      "cell_type": "code",
      "metadata": {
        "id": "iVD3TuBjh5AK",
        "colab_type": "code",
        "colab": {
          "base_uri": "https://localhost:8080/",
          "height": 68
        },
        "outputId": "35cd1834-d2b8-4722-9f42-bbf957eeb2d1"
      },
      "source": [
        "!kaggle datasets download -d jakeshbohaju/brain-tumor"
      ],
      "execution_count": 7,
      "outputs": [
        {
          "output_type": "stream",
          "text": [
            "Downloading brain-tumor.zip to /content/gdrive/My Drive/Kaggle\n",
            "\r  0% 0.00/184k [00:00<?, ?B/s]\n",
            "\r100% 184k/184k [00:00<00:00, 12.9MB/s]\n"
          ],
          "name": "stdout"
        }
      ]
    },
    {
      "cell_type": "code",
      "metadata": {
        "id": "t2tBPzjdiLpT",
        "colab_type": "code",
        "colab": {
          "base_uri": "https://localhost:8080/",
          "height": 51
        },
        "outputId": "f501c078-1fed-42f4-e88d-c5ea59d04007"
      },
      "source": [
        "#unzipping the zip files and deleting the zip files\n",
        "!unzip \\*.zip  && rm *.zip"
      ],
      "execution_count": 8,
      "outputs": [
        {
          "output_type": "stream",
          "text": [
            "Archive:  brain-tumor.zip\n",
            "  inflating: bt_dataset_t3.csv       \n"
          ],
          "name": "stdout"
        }
      ]
    },
    {
      "cell_type": "code",
      "metadata": {
        "id": "NaofSNkskVND",
        "colab_type": "code",
        "colab": {
          "base_uri": "https://localhost:8080/",
          "height": 326
        },
        "outputId": "6ef5862f-2114-4fd5-a4ae-9c21f77367ad"
      },
      "source": [
        "import pandas as pd\n",
        "\n",
        "path = \"/content/drive/My Drive/Kaggle/bt_dataset_t3.csv\"\n",
        "df = pd.read_csv(path)\n",
        "df.head()"
      ],
      "execution_count": 15,
      "outputs": [
        {
          "output_type": "execute_result",
          "data": {
            "text/html": [
              "<div>\n",
              "<style scoped>\n",
              "    .dataframe tbody tr th:only-of-type {\n",
              "        vertical-align: middle;\n",
              "    }\n",
              "\n",
              "    .dataframe tbody tr th {\n",
              "        vertical-align: top;\n",
              "    }\n",
              "\n",
              "    .dataframe thead th {\n",
              "        text-align: right;\n",
              "    }\n",
              "</style>\n",
              "<table border=\"1\" class=\"dataframe\">\n",
              "  <thead>\n",
              "    <tr style=\"text-align: right;\">\n",
              "      <th></th>\n",
              "      <th>Image</th>\n",
              "      <th>Mean</th>\n",
              "      <th>Variance</th>\n",
              "      <th>Standard Deviation</th>\n",
              "      <th>Entropy</th>\n",
              "      <th>Skewness</th>\n",
              "      <th>Kurtosis</th>\n",
              "      <th>Contrast</th>\n",
              "      <th>Energy</th>\n",
              "      <th>ASM</th>\n",
              "      <th>Homogeneity</th>\n",
              "      <th>Dissimilarity</th>\n",
              "      <th>Correlation</th>\n",
              "      <th>Coarseness</th>\n",
              "      <th>PSNR</th>\n",
              "      <th>SSIM</th>\n",
              "      <th>MSE</th>\n",
              "      <th>DC</th>\n",
              "      <th>Target</th>\n",
              "    </tr>\n",
              "  </thead>\n",
              "  <tbody>\n",
              "    <tr>\n",
              "      <th>0</th>\n",
              "      <td>Image1</td>\n",
              "      <td>23.448517</td>\n",
              "      <td>2538.985627</td>\n",
              "      <td>50.388348</td>\n",
              "      <td>0.651174</td>\n",
              "      <td>1.984202</td>\n",
              "      <td>5.421042</td>\n",
              "      <td>181.467713</td>\n",
              "      <td>0.781557</td>\n",
              "      <td>0.610831</td>\n",
              "      <td>0.847033</td>\n",
              "      <td>2.765411</td>\n",
              "      <td>0.968576</td>\n",
              "      <td>7.458341e-155</td>\n",
              "      <td>97.974630</td>\n",
              "      <td>0.777011</td>\n",
              "      <td>0.171163</td>\n",
              "      <td>0.303989</td>\n",
              "      <td>1</td>\n",
              "    </tr>\n",
              "    <tr>\n",
              "      <th>1</th>\n",
              "      <td>Image2</td>\n",
              "      <td>4.398331</td>\n",
              "      <td>834.853030</td>\n",
              "      <td>28.893823</td>\n",
              "      <td>0.953532</td>\n",
              "      <td>6.495203</td>\n",
              "      <td>43.349355</td>\n",
              "      <td>76.745886</td>\n",
              "      <td>0.972770</td>\n",
              "      <td>0.946281</td>\n",
              "      <td>0.980762</td>\n",
              "      <td>0.548605</td>\n",
              "      <td>0.959751</td>\n",
              "      <td>7.458341e-155</td>\n",
              "      <td>110.346597</td>\n",
              "      <td>0.977953</td>\n",
              "      <td>0.009913</td>\n",
              "      <td>0.839019</td>\n",
              "      <td>1</td>\n",
              "    </tr>\n",
              "    <tr>\n",
              "      <th>2</th>\n",
              "      <td>Image3</td>\n",
              "      <td>3.244263</td>\n",
              "      <td>642.059166</td>\n",
              "      <td>25.338886</td>\n",
              "      <td>0.966065</td>\n",
              "      <td>7.772860</td>\n",
              "      <td>61.756034</td>\n",
              "      <td>81.752406</td>\n",
              "      <td>0.980161</td>\n",
              "      <td>0.960715</td>\n",
              "      <td>0.985066</td>\n",
              "      <td>0.540411</td>\n",
              "      <td>0.944259</td>\n",
              "      <td>7.458341e-155</td>\n",
              "      <td>112.266298</td>\n",
              "      <td>0.985362</td>\n",
              "      <td>0.006372</td>\n",
              "      <td>0.849775</td>\n",
              "      <td>1</td>\n",
              "    </tr>\n",
              "    <tr>\n",
              "      <th>3</th>\n",
              "      <td>Image4</td>\n",
              "      <td>8.511353</td>\n",
              "      <td>1126.214187</td>\n",
              "      <td>33.559115</td>\n",
              "      <td>0.868765</td>\n",
              "      <td>3.763142</td>\n",
              "      <td>15.107579</td>\n",
              "      <td>362.291213</td>\n",
              "      <td>0.921786</td>\n",
              "      <td>0.849690</td>\n",
              "      <td>0.949295</td>\n",
              "      <td>2.765725</td>\n",
              "      <td>0.859027</td>\n",
              "      <td>7.458341e-155</td>\n",
              "      <td>101.955792</td>\n",
              "      <td>0.881015</td>\n",
              "      <td>0.068437</td>\n",
              "      <td>0.000000</td>\n",
              "      <td>0</td>\n",
              "    </tr>\n",
              "    <tr>\n",
              "      <th>4</th>\n",
              "      <td>Image5</td>\n",
              "      <td>21.000793</td>\n",
              "      <td>2235.316978</td>\n",
              "      <td>47.279139</td>\n",
              "      <td>0.684724</td>\n",
              "      <td>1.936029</td>\n",
              "      <td>4.722343</td>\n",
              "      <td>312.439226</td>\n",
              "      <td>0.804184</td>\n",
              "      <td>0.646711</td>\n",
              "      <td>0.880301</td>\n",
              "      <td>3.006660</td>\n",
              "      <td>0.938572</td>\n",
              "      <td>7.458341e-155</td>\n",
              "      <td>97.639870</td>\n",
              "      <td>0.766308</td>\n",
              "      <td>0.184878</td>\n",
              "      <td>0.000000</td>\n",
              "      <td>0</td>\n",
              "    </tr>\n",
              "  </tbody>\n",
              "</table>\n",
              "</div>"
            ],
            "text/plain": [
              "    Image       Mean     Variance  ...       MSE        DC  Target\n",
              "0  Image1  23.448517  2538.985627  ...  0.171163  0.303989       1\n",
              "1  Image2   4.398331   834.853030  ...  0.009913  0.839019       1\n",
              "2  Image3   3.244263   642.059166  ...  0.006372  0.849775       1\n",
              "3  Image4   8.511353  1126.214187  ...  0.068437  0.000000       0\n",
              "4  Image5  21.000793  2235.316978  ...  0.184878  0.000000       0\n",
              "\n",
              "[5 rows x 19 columns]"
            ]
          },
          "metadata": {
            "tags": []
          },
          "execution_count": 15
        }
      ]
    }
  ]
}